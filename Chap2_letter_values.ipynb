{
 "cells": [
  {
   "cell_type": "code",
   "execution_count": 1,
   "metadata": {},
   "outputs": [
    {
     "data": {
      "text/html": [
       "<ol class=list-inline>\n",
       "\t<li>36</li>\n",
       "\t<li>48.5</li>\n",
       "\t<li>58</li>\n",
       "\t<li>71.5</li>\n",
       "\t<li>100</li>\n",
       "</ol>\n"
      ],
      "text/latex": [
       "\\begin{enumerate*}\n",
       "\\item 36\n",
       "\\item 48.5\n",
       "\\item 58\n",
       "\\item 71.5\n",
       "\\item 100\n",
       "\\end{enumerate*}\n"
      ],
      "text/markdown": [
       "1. 36\n",
       "2. 48.5\n",
       "3. 58\n",
       "4. 71.5\n",
       "5. 100\n",
       "\n",
       "\n"
      ],
      "text/plain": [
       "[1]  36.0  48.5  58.0  71.5 100.0"
      ]
     },
     "metadata": {},
     "output_type": "display_data"
    }
   ],
   "source": [
    "# 五数总括[min, lowQuartile, median, upQuartile, max]\n",
    "x <- c(36, 37, 45, 52, 56, 58, 66, 68, 75, 90, 100)\n",
    "fivenum(x)"
   ]
  },
  {
   "cell_type": "code",
   "execution_count": 2,
   "metadata": {},
   "outputs": [
    {
     "data": {
      "text/html": [
       "<dl>\n",
       "\t<dt>$stats</dt>\n",
       "\t\t<dd><ol class=list-inline>\n",
       "\t<li>36</li>\n",
       "\t<li>48.5</li>\n",
       "\t<li>58</li>\n",
       "\t<li>71.5</li>\n",
       "\t<li>100</li>\n",
       "</ol>\n",
       "</dd>\n",
       "\t<dt>$n</dt>\n",
       "\t\t<dd>11</dd>\n",
       "\t<dt>$conf</dt>\n",
       "\t\t<dd><ol class=list-inline>\n",
       "\t<li>47.0430777380441</li>\n",
       "\t<li>68.9569222619559</li>\n",
       "</ol>\n",
       "</dd>\n",
       "\t<dt>$out</dt>\n",
       "\t\t<dd></dd>\n",
       "</dl>\n"
      ],
      "text/latex": [
       "\\begin{description}\n",
       "\\item[\\$stats] \\begin{enumerate*}\n",
       "\\item 36\n",
       "\\item 48.5\n",
       "\\item 58\n",
       "\\item 71.5\n",
       "\\item 100\n",
       "\\end{enumerate*}\n",
       "\n",
       "\\item[\\$n] 11\n",
       "\\item[\\$conf] \\begin{enumerate*}\n",
       "\\item 47.0430777380441\n",
       "\\item 68.9569222619559\n",
       "\\end{enumerate*}\n",
       "\n",
       "\\item[\\$out] \n",
       "\\end{description}\n"
      ],
      "text/markdown": [
       "$stats\n",
       ":   1. 36\n",
       "2. 48.5\n",
       "3. 58\n",
       "4. 71.5\n",
       "5. 100\n",
       "\n",
       "\n",
       "\n",
       "$n\n",
       ":   11\n",
       "$conf\n",
       ":   1. 47.0430777380441\n",
       "2. 68.9569222619559\n",
       "\n",
       "\n",
       "\n",
       "$out\n",
       ":   \n",
       "\n",
       "\n"
      ],
      "text/plain": [
       "$stats\n",
       "[1]  36.0  48.5  58.0  71.5 100.0\n",
       "\n",
       "$n\n",
       "[1] 11\n",
       "\n",
       "$conf\n",
       "[1] 47.04308 68.95692\n",
       "\n",
       "$out\n",
       "numeric(0)\n"
      ]
     },
     "metadata": {},
     "output_type": "display_data"
    },
    {
     "data": {
      "image/png": "[encoded data removed]",
      "text/plain": [
       "plot without title"
      ]
     },
     "metadata": {},
     "output_type": "display_data"
    }
   ],
   "source": [
    "# 五数总括对应的箱线图\n",
    "boxplot(x)\n",
    "boxplot.stats(x)"
   ]
  },
  {
   "cell_type": "code",
   "execution_count": 3,
   "metadata": {},
   "outputs": [
    {
     "data": {
      "text/html": [
       "23"
      ],
      "text/latex": [
       "23"
      ],
      "text/markdown": [
       "23"
      ],
      "text/plain": [
       "[1] 23"
      ]
     },
     "metadata": {},
     "output_type": "display_data"
    }
   ],
   "source": [
    "# 四分展布\n",
    "IQR(x)"
   ]
  },
  {
   "cell_type": "code",
   "execution_count": 6,
   "metadata": {},
   "outputs": [
    {
     "name": "stdout",
     "output_type": "stream",
     "text": [
      "[1] 59\n"
     ]
    }
   ],
   "source": [
    "# 三均值\n",
    "fiveNum <- fivenum(x)\n",
    "lowQuartile <- fiveNum[2]\n",
    "medianNum <- fiveNum[3]\n",
    "upQuartile <- fiveNum[4]\n",
    "thrMean <- lowQuartile/4 + medianNum/2 + upQuartile/4\n",
    "print(thrMean)"
   ]
  },
  {
   "cell_type": "code",
   "execution_count": 7,
   "metadata": {},
   "outputs": [
    {
     "data": {
      "text/html": [
       "<table>\n",
       "<thead><tr><th scope=col>letter</th><th scope=col>depth</th><th scope=col>lower</th><th scope=col>mid</th><th scope=col>upper</th><th scope=col>spread</th></tr></thead>\n",
       "<tbody>\n",
       "\t<tr><td>M    </td><td>6.0  </td><td>58.0 </td><td>58.00</td><td> 58.0</td><td> 0.0 </td></tr>\n",
       "\t<tr><td>H    </td><td>3.5  </td><td>48.5 </td><td>60.00</td><td> 71.5</td><td>23.0 </td></tr>\n",
       "\t<tr><td>E    </td><td>2.0  </td><td>37.0 </td><td>63.50</td><td> 90.0</td><td>53.0 </td></tr>\n",
       "\t<tr><td>D    </td><td>1.5  </td><td>36.5 </td><td>65.75</td><td> 95.0</td><td>58.5 </td></tr>\n",
       "\t<tr><td>C    </td><td>1.0  </td><td>36.0 </td><td>68.00</td><td>100.0</td><td>64.0 </td></tr>\n",
       "</tbody>\n",
       "</table>\n"
      ],
      "text/latex": [
       "\\begin{tabular}{r|llllll}\n",
       " letter & depth & lower & mid & upper & spread\\\\\n",
       "\\hline\n",
       "\t M     & 6.0   & 58.0  & 58.00 &  58.0 &  0.0 \\\\\n",
       "\t H     & 3.5   & 48.5  & 60.00 &  71.5 & 23.0 \\\\\n",
       "\t E     & 2.0   & 37.0  & 63.50 &  90.0 & 53.0 \\\\\n",
       "\t D     & 1.5   & 36.5  & 65.75 &  95.0 & 58.5 \\\\\n",
       "\t C     & 1.0   & 36.0  & 68.00 & 100.0 & 64.0 \\\\\n",
       "\\end{tabular}\n"
      ],
      "text/markdown": [
       "\n",
       "letter | depth | lower | mid | upper | spread | \n",
       "|---|---|---|---|---|\n",
       "| M     | 6.0   | 58.0  | 58.00 |  58.0 |  0.0  | \n",
       "| H     | 3.5   | 48.5  | 60.00 |  71.5 | 23.0  | \n",
       "| E     | 2.0   | 37.0  | 63.50 |  90.0 | 53.0  | \n",
       "| D     | 1.5   | 36.5  | 65.75 |  95.0 | 58.5  | \n",
       "| C     | 1.0   | 36.0  | 68.00 | 100.0 | 64.0  | \n",
       "\n",
       "\n"
      ],
      "text/plain": [
       "  letter depth lower mid   upper spread\n",
       "1 M      6.0   58.0  58.00  58.0  0.0  \n",
       "2 H      3.5   48.5  60.00  71.5 23.0  \n",
       "3 E      2.0   37.0  63.50  90.0 53.0  \n",
       "4 D      1.5   36.5  65.75  95.0 58.5  \n",
       "5 C      1.0   36.0  68.00 100.0 64.0  "
      ]
     },
     "metadata": {},
     "output_type": "display_data"
    }
   ],
   "source": [
    "# 字母值（参考：http://mgimond.github.io/ES218/Week08b.html）\n",
    "source(\"http://mgimond.github.io/ES218/es218.R\")\n",
    "lsum(x)"
   ]
  },
  {
   "cell_type": "code",
   "execution_count": null,
   "metadata": {
    "collapsed": true
   },
   "outputs": [],
   "source": []
  }
 ],
 "metadata": {
  "kernelspec": {
   "display_name": "R 3.3",
   "language": "R",
   "name": "ir33"
  },
  "language_info": {
   "codemirror_mode": "r",
   "file_extension": ".r",
   "mimetype": "text/x-r-source",
   "name": "R",
   "pygments_lexer": "r",
   "version": "3.4.1"
  }
 },
 "nbformat": 4,
 "nbformat_minor": 2
}
